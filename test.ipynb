{
 "cells": [
  {
   "cell_type": "code",
   "execution_count": 1,
   "id": "66ee71e9",
   "metadata": {},
   "outputs": [],
   "source": [
    "from board import GameBoard, InvalidFence, InvalidMove\n",
    "from action import MOVE, BLOCK\n",
    "from util import print_board\n",
    "from typing import Tuple, List, Literal"
   ]
  },
  {
   "cell_type": "code",
   "execution_count": null,
   "id": "a891508d",
   "metadata": {},
   "outputs": [],
   "source": [
    "board_for_player = GameBoard()\n",
    "board_for_player._initialize()"
   ]
  },
  {
   "cell_type": "code",
   "execution_count": 10,
   "id": "ed9e28ac",
   "metadata": {},
   "outputs": [
    {
     "data": {
      "text/plain": [
       "{'state_id': '//E1E9',\n",
       " 'turn': 0,\n",
       " 'board': {'fence_center': []},\n",
       " 'player': {'black': {'pawn': [8, 4], 'fences_left': 10},\n",
       "  'white': {'pawn': [0, 4], 'fences_left': 10}}}"
      ]
     },
     "execution_count": 10,
     "metadata": {},
     "output_type": "execute_result"
    }
   ],
   "source": [
    "board_for_player.get_state()"
   ]
  },
  {
   "cell_type": "code",
   "execution_count": 11,
   "id": "3816f0f8",
   "metadata": {},
   "outputs": [
    {
     "name": "stdout",
     "output_type": "stream",
     "text": [
      "white\n",
      "   . . . . . . . . . . . . . . . . . .\n",
      "8 :   ·   ·   ·   · B ·   ·   ·   ·   ·\n",
      "   . . . . . . . . . . . . . . . . . .\n",
      "7 :   ·   ·   ·   ·   ·   ·   ·   ·   ·\n",
      "   . . . . . . . . . . . . . . . . . .\n",
      "6 :   ·   ·   ·   ·   ·   ·   ·   ·   ·\n",
      "   . . . . . . . . . . . . . . . . . .\n",
      "5 :   ·   ·   ·   ·   ·   ·   ·   ·   ·\n",
      "   . . . . . . . . . . . . . . . . . .\n",
      "4 :   ·   ·   ·   ·   ·   ·   ·   ·   ·\n",
      "   . . . . . . . . . . . . . . . . . .\n",
      "3 :   ·   ·   ·   ·   ·   ·   ·   ·   ·\n",
      "   . . . . . . . . . . . . . . . . . .\n",
      "2 :   ·   ·   ·   ·   ·   ·   ·   ·   ·\n",
      "   . . . . . . . . . . . . . . . . . .\n",
      "1 :   ·   ·   ·   ·   ·   ·   ·   ·   ·\n",
      "   . . . . . . . . . . . . . . . . . .\n",
      "0 :   ·   ·   ·   · W ·   ·   ·   ·   ·\n",
      "   ··· ··· ··· ··· ··· ··· ··· ··· ···\n",
      "    0   1   2   3   4   5   6   7   8 \n"
     ]
    }
   ],
   "source": [
    "print(board_for_player.current_player())\n",
    "print(print_board(board_for_player._board))"
   ]
  },
  {
   "cell_type": "code",
   "execution_count": null,
   "id": "4225e023",
   "metadata": {},
   "outputs": [],
   "source": [
    "def shortest_path(board: GameBoard, player: Literal['white', 'black']) -> int:\n",
    "    \"\"\"\n",
    "    Calculate the shortest path distance for the given player on the game board.py\n",
    "    Using A* algorithm for pathfinding.\n",
    "\n",
    "    Args:\n",
    "        board (GameBoard): instance of GameBoard\n",
    "        player (Literal[&#39;white&#39;, &#39;black&#39;]): the player for whom to calculate the path\n",
    "\n",
    "    Returns:\n",
    "        int: the length of the shortest path from the player's starting position to the goal line\n",
    "    \"\"\"\n",
    "    player_pos = board.get_state()['player'][player]['pawn']\n",
    "    opponent_pos = board.get_state()['player']['black' if player == 'white' else 'white']['pawn']\n",
    "    \n",
    "    def applicable_moves(position) -> List[Tuple[int, int]]:\n",
    "        \"\"\"\n",
    "        Get all applicable moves for the player from the current position.\n",
    "        \"\"\"\n",
    "        moves = []\n",
    "        directions = [(0, 1), (1, 0), (0, -1), (-1, 0)]\n",
    "        candidates = []\n",
    "        for d in directions:\n",
    "            new_pos = (position[0] + d[0], position[1] + d[1])\n",
    "            if new_pos == opponent_pos:\n",
    "                candidates.append(())\n",
    "        for candidate in candidates:\n",
    "            if not (0 <= candidate[0] < 9 and 0 <= candidate[1] < 9):\n",
    "                continue\n",
    "            if board.is_valid_move(player, candidate):\n",
    "                moves.append(candidate)\n",
    "        return moves\n",
    "    \n",
    "    goal_row = 8 if player == 'white' else 0\n",
    "    \n",
    "    return 0"
   ]
  },
  {
   "cell_type": "code",
   "execution_count": null,
   "id": "63bebf66",
   "metadata": {},
   "outputs": [],
   "source": [
    "class Node:\n",
    "    def __init__(self, board: GameBoard, player: Literal['white', 'black'], parent: GameBoard = None, move = None, depth: int = 0):\n",
    "        self.board = board\n",
    "        self.player = player\n",
    "        self.opponent = 'black' if player == 'white' else 'white'\n",
    "        self.parent = parent\n",
    "        self.move = move\n",
    "        self.depth = depth\n",
    "        \n",
    "        self.alpha = -float('inf')\n",
    "        self.beta = float('inf')\n",
    "        self.value = None\n",
    "        self.best_child = None\n",
    "        \n",
    "        self.applicable_moves = [MOVE(self.player, m)\n",
    "                        for m in board.get_applicable_moves(self.player)]\n",
    "        self.applicable_blocks = [BLOCK(self.player, b)\n",
    "                        for b in board.get_applicable_fences(self.player)] if self.state['player'][self.player]['fences_left'] > 0 else []\n"
   ]
  }
 ],
 "metadata": {
  "kernelspec": {
   "display_name": "py311",
   "language": "python",
   "name": "python3"
  },
  "language_info": {
   "codemirror_mode": {
    "name": "ipython",
    "version": 3
   },
   "file_extension": ".py",
   "mimetype": "text/x-python",
   "name": "python",
   "nbconvert_exporter": "python",
   "pygments_lexer": "ipython3",
   "version": "3.11.8"
  }
 },
 "nbformat": 4,
 "nbformat_minor": 5
}
