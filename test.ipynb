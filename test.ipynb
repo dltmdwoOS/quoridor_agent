{
 "cells": [
  {
   "cell_type": "code",
   "execution_count": 10,
   "id": "66ee71e9",
   "metadata": {},
   "outputs": [],
   "source": [
    "from board import GameBoard, InvalidFence, InvalidMove\n",
    "from action import MOVE, BLOCK\n",
    "from util import print_board\n",
    "from typing import Tuple, List, Literal"
   ]
  },
  {
   "cell_type": "code",
   "execution_count": 2,
   "id": "a891508d",
   "metadata": {},
   "outputs": [],
   "source": [
    "board_for_player = GameBoard()\n",
    "board_for_player._initialize()"
   ]
  },
  {
   "cell_type": "code",
   "execution_count": 3,
   "id": "ed9e28ac",
   "metadata": {},
   "outputs": [
    {
     "data": {
      "text/plain": [
       "{'state_id': '//E1E9',\n",
       " 'turn': 0,\n",
       " 'board': {'fence_center': []},\n",
       " 'player': {'black': {'pawn': [8, 4], 'fences_left': 10},\n",
       "  'white': {'pawn': [0, 4], 'fences_left': 10}}}"
      ]
     },
     "execution_count": 3,
     "metadata": {},
     "output_type": "execute_result"
    }
   ],
   "source": [
    "board_for_player.get_state()"
   ]
  },
  {
   "cell_type": "code",
   "execution_count": 7,
   "id": "3816f0f8",
   "metadata": {},
   "outputs": [
    {
     "name": "stdout",
     "output_type": "stream",
     "text": [
      "white\n",
      "   . . . . . . . . . . . . . . . . . .\n",
      "8 :   ·   ·   ·   · B ·   ·   ·   ·   ·\n",
      "   . . . . . . . . . . . . . . . . . .\n",
      "7 :   ·   ·   ·   ·   ·   ·   ·   ·   ·\n",
      "   . . . . . . . . . . . . . . . . . .\n",
      "6 :   ·   ·   ·   ·   ·   ·   ·   ·   ·\n",
      "   . . . . . . . . . . . . . . . . . .\n",
      "5 :   ·   ·   ·   ·   ·   ·   ·   ·   ·\n",
      "   . . . . . . . . . . . . . . . . . .\n",
      "4 :   ·   ·   ·   ·   ·   ·   ·   ·   ·\n",
      "   . . . . . . . . . . . . . . . . . .\n",
      "3 :   ·   ·   ·   ·   ·   ·   ·   ·   ·\n",
      "   . . . . . . . . . . . . . . . . . .\n",
      "2 :   ·   ·   ·   ·   ·   ·   ·   ·   ·\n",
      "   . . . . . . . . . . . . . . . . . .\n",
      "1 :   ·   ·   ·   ·   ·   ·   ·   ·   ·\n",
      "   . . . . . . . . . . . . . . . . . .\n",
      "0 :   ·   ·   ·   · W ·   ·   ·   ·   ·\n",
      "   ··· ··· ··· ··· ··· ··· ··· ··· ···\n",
      "    0   1   2   3   4   5   6   7   8 \n"
     ]
    }
   ],
   "source": [
    "print(board_for_player.current_player())\n",
    "print(print_board(board_for_player._board))"
   ]
  },
  {
   "cell_type": "code",
   "execution_count": null,
   "id": "63bebf66",
   "metadata": {},
   "outputs": [],
   "source": [
    "class Node:\n",
    "    def __init__(self, board: GameBoard, player: Literal['white', 'black'], parent: GameBoard = None):\n",
    "        self.board = board\n",
    "        self.player = player\n",
    "        self.opponent = 'black' if player == 'white' else 'white'\n",
    "        self.parent = parent\n",
    "        self.children = []\n",
    "        self.state = board.get_state()\n",
    "\n",
    "        self.applicable_moves = [MOVE(self.player, m)\n",
    "                        for m in board.get_applicable_moves(self.player)]\n",
    "        self.applicable_blocks = [BLOCK(self.player, b)\n",
    "                        for b in board.get_applicable_fences(self.player)] if self.state['player'][self.player]['fences_left'] > 0 else []\n"
   ]
  }
 ],
 "metadata": {
  "kernelspec": {
   "display_name": "py311",
   "language": "python",
   "name": "python3"
  },
  "language_info": {
   "codemirror_mode": {
    "name": "ipython",
    "version": 3
   },
   "file_extension": ".py",
   "mimetype": "text/x-python",
   "name": "python",
   "nbconvert_exporter": "python",
   "pygments_lexer": "ipython3",
   "version": "3.11.8"
  }
 },
 "nbformat": 4,
 "nbformat_minor": 5
}
